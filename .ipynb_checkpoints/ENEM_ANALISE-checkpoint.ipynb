{
 "cells": [
  {
   "cell_type": "markdown",
   "id": "zN1O4gz_260s",
   "metadata": {
    "id": "zN1O4gz_260s"
   },
   "source": [
    "# Trabalho de conclusão de disciplina"
   ]
  },
  {
   "cell_type": "markdown",
   "id": "-PR4zLQM3C9r",
   "metadata": {
    "id": "-PR4zLQM3C9r"
   },
   "source": [
    "Importando a base escolhida, e as bibliotecas para a exploração de dados. A base escolhida foi a de microdados do enem, A base original se encontra no site do MEC. A base foi encontrada no servidor de dados do Curso de Ciência de dados e Inteligência Artificial, está base já foi pré-selecionada e limpado os dados."
   ]
  },
  {
   "cell_type": "code",
   "execution_count": 1,
   "id": "4ff0f628",
   "metadata": {
    "id": "4ff0f628"
   },
   "outputs": [],
   "source": [
    "import pandas as pd #Importando pandas\n",
    "import matplotlib.pyplot as plt #Importando matplotlib.pyplot\n",
    "import numpy as np  #Importando numpy\n",
    "import seaborn as sns  #Importando seaborn"
   ]
  },
  {
   "cell_type": "code",
   "execution_count": null,
   "id": "7028f8a4",
   "metadata": {
    "id": "7028f8a4",
    "scrolled": true
   },
   "outputs": [],
   "source": [
    "df = pd.read_excel(r'C:\\Users\\felip\\Downloads\\ENEM_2020.xlsx') # leitura do arquivo excel e armazenando em um dataframe"
   ]
  },
  {
   "cell_type": "markdown",
   "id": "6bdb40ce",
   "metadata": {},
   "source": [
    "## Funções utilizadas no notebook "
   ]
  },
  {
   "cell_type": "code",
   "execution_count": null,
   "id": "JMBF_K0nyoY4",
   "metadata": {
    "code_folding": [
     0,
     4,
     9,
     17,
     60
    ],
    "id": "JMBF_K0nyoY4"
   },
   "outputs": [],
   "source": [
    "def contar_qtd_idade_sexo(df, sexo):\n",
    "    sex_count = df[df['TP_SEXO'] == sexo]['TP_FAIXA_ETARIA'].value_counts()\n",
    "    return sex_count\n",
    "\n",
    "def separar_regiao(df, filtro):\n",
    "    regiao = df.where(filtro)\n",
    "    regiao.dropna(inplace=True)\n",
    "    return regiao\n",
    "\n",
    "def fazer_notas(df):\n",
    "    notas = pd.Series(data={'Nota_CH':df.NOTA_CH_CIENCIAS_hUMANAS.mean(), \n",
    "                            'Nota_CN':df.NOTA_CN_CIENCIAS_DA_NATUREZA.mean(), \n",
    "                            'Nota_LC':df.NOTA_LC_LINGUAGENS_E_CODIGOS.mean(), \n",
    "                            'Nota_MT':df.NOTA_MT_MATEMATICA.mean(),\n",
    "                            'Nota_RE':df.NOTA_REDACAO.mean()})\n",
    "    return notas\n",
    "\n",
    "def fazer_boxplot(df, coluna):\n",
    "    fig, ax = plt.subplots(figsize=(10, 10))\n",
    "    sns.boxplot(x=df.Região, y=df[coluna], hue=df.Região, data=df, width=0.6, dodge=False)\n",
    "    ax.grid(True)\n",
    "    return ax\n",
    "    \n",
    "def graficos_padrao(df):\n",
    "    sns.set_style(\"whitegrid\")\n",
    "    fig, ax = plt.subplots(2, 3, figsize=(20,12), squeeze = False, layout= 'constrained')\n",
    "\n",
    "    notas = fazer_notas(df)\n",
    "    ax[0][0].scatter(x=notas.index, y=notas.values,  c=[\"#20257c\", \"#424ad1\", \"#6a8ee8\", \"#66bbe2\", \"#66dee2\"])\n",
    "    ax[0][0].set_title('Média das notas')\n",
    "    ax[0][0].grid(True, axis='y')\n",
    "\n",
    "    barra = ax[0][1].bar([\"Masculino\", 'Feminino'], height=df.TP_SEXO.value_counts(), width=0.3, color=[\"#1c74b4\", '#fc7c0c'])\n",
    "    ax[0][1].bar_label(barra)\n",
    "    ax[0][1].set_title('Distribuição de sexo')\n",
    "    ax[0][1].grid(True, axis='y')\n",
    "\n",
    "    ax[0][2] = sns.countplot(data=df, order = df.TP_COR_RACA.value_counts().index, x='TP_COR_RACA', ax=ax[0][2])\n",
    "    ax[0][2].bar_label(ax[0][2].containers[0])\n",
    "    ax[0][2].set_title('Distribuição da idade')\n",
    "    plt.setp(ax[0][2].get_xticklabels(), rotation=18, ha=\"right\")\n",
    "    ax[0][2].grid(True, axis='y')\n",
    "\n",
    "    ax[1][0].boxplot(df.NOTA_MEDIA_5_NOTAS, 1, 'gD')\n",
    "    ax[1][0].set_title('Distribuição das médias')\n",
    "    ax[1][0].grid(True)\n",
    "\n",
    "    men_means= contar_qtd_idade_sexo(df, 'Masculino')\n",
    "    women_means = contar_qtd_idade_sexo(df, 'Feminino') \n",
    "    labels = df.TP_FAIXA_ETARIA.value_counts().index\n",
    "\n",
    "    ax[1][1].bar(labels, men_means, width=0.35, label='Homem')\n",
    "    ax[1][1].bar(labels, women_means, width=0.35, bottom=men_means, label='Mulher')\n",
    "    ax[1][1].legend()\n",
    "    plt.setp(ax[1][1].get_xticklabels(), rotation=18, ha=\"right\")\n",
    "    ax[1][1].grid(True)\n",
    "    ax[1][1].set_title('Distriubuição de sexo por idades')\n",
    "\n",
    "    barra2 = ax[1][2].bar(df.SG_UF_PROVA.value_counts().index, df.SG_UF_PROVA.value_counts(), width=0.35)\n",
    "    ax[1][2].bar_label(barra2)\n",
    "    ax[1][2].set_title('Distribuição dos indivíduos por estado')\n",
    "    ax[1][2].grid(True)\n",
    "\n",
    "def distribuir_notas(df, x_size):\n",
    "    fig, ax = plt.subplots(figsize=(x_size, 10))\n",
    "    sns.boxplot(x='SG_UF_PROVA', y='NOTA_MEDIA_5_NOTAS', data=df)\n",
    "    ax.set_title('Distribuição das médias por estado na região')\n",
    "    ax.grid(True)\n",
    "    ax.legend()\n",
    "    fig.show()"
   ]
  },
  {
   "cell_type": "markdown",
   "id": "a9ebe54d",
   "metadata": {},
   "source": [
    "##  Verificando o tamanho e os tipos de dados"
   ]
  },
  {
   "cell_type": "code",
   "execution_count": null,
   "id": "74ab5812",
   "metadata": {
    "colab": {
     "base_uri": "https://localhost:8080/"
    },
    "id": "74ab5812",
    "outputId": "1c78d045-cfd5-44e4-de1f-d696c9440c96"
   },
   "outputs": [],
   "source": [
    "df.shape #Tamanho do Dataframe"
   ]
  },
  {
   "cell_type": "code",
   "execution_count": null,
   "id": "8ae1b2c8",
   "metadata": {
    "scrolled": false
   },
   "outputs": [],
   "source": [
    "df.info()"
   ]
  },
  {
   "cell_type": "code",
   "execution_count": null,
   "id": "938c29f3",
   "metadata": {
    "colab": {
     "base_uri": "https://localhost:8080/"
    },
    "id": "938c29f3",
    "outputId": "8f6c8df3-d275-4a67-8777-616d606fff38",
    "scrolled": true
   },
   "outputs": [],
   "source": [
    "df.dtypes #Tipos dos dados de cada coluna"
   ]
  },
  {
   "cell_type": "code",
   "execution_count": null,
   "id": "f2a6bb35",
   "metadata": {
    "colab": {
     "base_uri": "https://localhost:8080/",
     "height": 751
    },
    "id": "f2a6bb35",
    "outputId": "2718080d-19af-4081-f08c-3646807bb1a3",
    "scrolled": true
   },
   "outputs": [],
   "source": [
    "df.head() #Mostrar o topo da tabela"
   ]
  },
  {
   "cell_type": "code",
   "execution_count": null,
   "id": "8bbc9053",
   "metadata": {},
   "outputs": [],
   "source": [
    "df.tail()"
   ]
  },
  {
   "cell_type": "code",
   "execution_count": null,
   "id": "cef671a6",
   "metadata": {
    "scrolled": true
   },
   "outputs": [],
   "source": [
    "print(df.columns.values)"
   ]
  },
  {
   "cell_type": "code",
   "execution_count": null,
   "id": "3052cd47",
   "metadata": {
    "scrolled": true
   },
   "outputs": [],
   "source": [
    "df.drop(['NU_ANO', 'CO_UF_PROVA', 'CO_MUNICIPIO_PROVA'], axis=1).describe()"
   ]
  },
  {
   "cell_type": "markdown",
   "id": "aKLMpz_24Bl0",
   "metadata": {
    "id": "aKLMpz_24Bl0"
   },
   "source": [
    "## Explorando as coluna de tipos('TP_...')"
   ]
  },
  {
   "cell_type": "code",
   "execution_count": null,
   "id": "94a0fd2f",
   "metadata": {
    "colab": {
     "base_uri": "https://localhost:8080/",
     "height": 229
    },
    "id": "94a0fd2f",
    "outputId": "69a8b3b9-7828-4d35-c2f6-afa28499183d",
    "scrolled": true
   },
   "outputs": [],
   "source": [
    "fig, ax = plt.subplots(figsize=(12,3)) # Criando os objetos para trabalhar com os graficos, e defindo o tamanho da figura\n",
    "ax.grid(True, axis='y')\n",
    "sns.countplot(x = df['TP_FAIXA_ETARIA'], order=df['TP_FAIXA_ETARIA'].value_counts().index) #Gráfico em barra das idades"
   ]
  },
  {
   "cell_type": "code",
   "execution_count": null,
   "id": "a043fb31",
   "metadata": {
    "colab": {
     "base_uri": "https://localhost:8080/"
    },
    "id": "a043fb31",
    "outputId": "177a1cac-f861-42ee-8c70-561637a8ded0",
    "scrolled": true
   },
   "outputs": [],
   "source": [
    "df['TP_SEXO'].value_counts()  #Contando quantos valores na coluna TP_SEXO"
   ]
  },
  {
   "cell_type": "code",
   "execution_count": null,
   "id": "81603c51",
   "metadata": {
    "colab": {
     "base_uri": "https://localhost:8080/",
     "height": 729
    },
    "id": "81603c51",
    "outputId": "cf6fff70-6c5b-473d-ae0a-bad3a3832d26",
    "scrolled": false
   },
   "outputs": [],
   "source": [
    "fig, ax = plt.subplots(figsize=(8, 8)) # Criando os objetos para trabalhar com os graficos\n",
    "\n",
    "sns.countplot(x=df['TP_SEXO']) #Gráfico em barra da divisão de gênero\n",
    "\n",
    "ax.set_title('Distribuição dos gêneros')\n",
    "ax.set_xlabel('Gêneros')\n"
   ]
  },
  {
   "cell_type": "code",
   "execution_count": null,
   "id": "445631f7",
   "metadata": {
    "colab": {
     "base_uri": "https://localhost:8080/",
     "height": 407
    },
    "id": "445631f7",
    "outputId": "88ec4ec9-bc54-47e2-8507-2e1235b9c235",
    "scrolled": false
   },
   "outputs": [],
   "source": [
    "fig, ax = plt.subplots(figsize=(12,6))\n",
    "sns.countplot(x='TP_FAIXA_ETARIA', hue='TP_SEXO', data=df, order=df['TP_FAIXA_ETARIA'].value_counts().index)"
   ]
  },
  {
   "cell_type": "code",
   "execution_count": null,
   "id": "9fd59c94",
   "metadata": {
    "scrolled": false
   },
   "outputs": [],
   "source": [
    "fig, ax = plt.subplots(figsize=(18,6))\n",
    "sns.countplot(x='TP_ESTADO_CIVIL', data=df, order=df['TP_ESTADO_CIVIL'].value_counts().index, ax=ax, log=True)\n",
    "ax.set_ylabel('Contagem em logaritimo')"
   ]
  },
  {
   "cell_type": "code",
   "execution_count": null,
   "id": "d7c8c85a",
   "metadata": {},
   "outputs": [],
   "source": [
    "fig, ax = plt.subplots(figsize=(12,6)) # Criando os objetos para trabalhar com os graficos, e defindo o tamanho da figura\n",
    "ax.grid(True, axis='y')\n",
    "sns.countplot(x = df['TP_COR_RACA'], order=df['TP_COR_RACA'].value_counts().index, log=True) #Gráfico em barra das idades\n",
    "ax.set_ylabel('Contagem em logaritimo')"
   ]
  },
  {
   "cell_type": "code",
   "execution_count": null,
   "id": "e4316080",
   "metadata": {},
   "outputs": [],
   "source": [
    "fig, ax = plt.subplots(figsize=(18,6)) # Criando os objetos para trabalhar com os graficos, e defindo o tamanho da figura\n",
    "ax.grid(True, axis='y')\n",
    "sns.countplot(x = df['TP_NACIONALIDADE'], order=df['TP_NACIONALIDADE'].value_counts().index,log=True)\n",
    "ax.set_ylabel('Contagem em logaritimo')"
   ]
  },
  {
   "cell_type": "code",
   "execution_count": null,
   "id": "e69037c1",
   "metadata": {
    "scrolled": false
   },
   "outputs": [],
   "source": [
    "fig, ax = plt.subplots(figsize=(18,6)) # Criando os objetos para trabalhar com os graficos, e defindo o tamanho da figura\n",
    "ax.grid(True, axis='y')\n",
    "sns.countplot(x = df['TP_ST_CONCLUSAO'], order=df['TP_ST_CONCLUSAO'].value_counts().index,log=True)\n",
    "ax.set_ylabel('Contagem em logaritimo')"
   ]
  },
  {
   "cell_type": "code",
   "execution_count": null,
   "id": "95f91998",
   "metadata": {
    "scrolled": false
   },
   "outputs": [],
   "source": [
    "fig, ax = plt.subplots(figsize=(18,6)) # Criando os objetos para trabalhar com os graficos, e defindo o tamanho da figura\n",
    "ax.grid(True, axis='y')\n",
    "sns.countplot(x = df['TP_ANO_CONCLUIU'], order=df['TP_ANO_CONCLUIU'].value_counts().index)"
   ]
  },
  {
   "cell_type": "code",
   "execution_count": null,
   "id": "17d688c7",
   "metadata": {
    "scrolled": false
   },
   "outputs": [],
   "source": [
    "fig, ax = plt.subplots(figsize=(18,6)) # Criando os objetos para trabalhar com os graficos, e defindo o tamanho da figura\n",
    "ax.grid(True, axis='y')\n",
    "sns.countplot(x = df['TP_ESCOLA'], order=df['TP_ESCOLA'].value_counts().index)"
   ]
  },
  {
   "cell_type": "code",
   "execution_count": null,
   "id": "2f229362",
   "metadata": {},
   "outputs": [],
   "source": [
    "fig, ax = plt.subplots(figsize=(18,6)) # Criando os objetos para trabalhar com os graficos, e defindo o tamanho da figura\n",
    "ax.grid(True, axis='y')\n",
    "sns.countplot(x = df['TP_ENSINO'], order=df['TP_ENSINO'].value_counts().index, log=True)\n",
    "ax.set_ylabel('Contagem em logaritimo')"
   ]
  },
  {
   "cell_type": "code",
   "execution_count": null,
   "id": "2b98b831",
   "metadata": {
    "scrolled": false
   },
   "outputs": [],
   "source": [
    "fig, ax = plt.subplots(figsize=(18,6)) # Criando os objetos para trabalhar com os graficos, e defindo o tamanho da figura\n",
    "ax.grid(True, axis='y')\n",
    "sns.countplot(x = df['TP_DEPENDENCIA_ADM_ESC'], order=df['TP_DEPENDENCIA_ADM_ESC'].value_counts().index, log=True)\n",
    "ax.set_ylabel('Contagem em logaritimo')"
   ]
  },
  {
   "cell_type": "code",
   "execution_count": null,
   "id": "79786d68",
   "metadata": {},
   "outputs": [],
   "source": [
    "fig, ax = plt.subplots(figsize=(18,6)) # Criando os objetos para trabalhar com os graficos, e defindo o tamanho da figura\n",
    "ax.grid(True, axis='y')\n",
    "sns.countplot(x = df['TP_LOCALIZACAO_ESC'], order=df['TP_LOCALIZACAO_ESC'].value_counts().index, log=True)\n",
    "ax.set_ylabel('Contagem em logaritimo')"
   ]
  },
  {
   "cell_type": "code",
   "execution_count": null,
   "id": "e52ab8ed",
   "metadata": {},
   "outputs": [],
   "source": [
    "fig, ax = plt.subplots(figsize=(18,6)) # Criando os objetos para trabalhar com os graficos, e defindo o tamanho da figura\n",
    "ax.grid(True, axis='y')\n",
    "sns.countplot(x = df['TP_SIT_FUNC_ESC'], order=df['TP_SIT_FUNC_ESC'].value_counts().index, log=True)\n",
    "ax.set_ylabel('Contagem em logaritimo')"
   ]
  },
  {
   "cell_type": "code",
   "execution_count": null,
   "id": "e637d4ae",
   "metadata": {},
   "outputs": [],
   "source": [
    "fig, ax = plt.subplots(figsize=(6,6)) # Criando os objetos para trabalhar com os graficos, e defindo o tamanho da figura\n",
    "ax.grid(True, axis='y')\n",
    "sns.countplot(x = df['TP_STATUS_REDACAO'], order=df['TP_STATUS_REDACAO'].value_counts().index)"
   ]
  },
  {
   "cell_type": "markdown",
   "id": "LMvGkmm50sqN",
   "metadata": {
    "heading_collapsed": true,
    "id": "LMvGkmm50sqN"
   },
   "source": [
    "## Criando bases, separando a base pelas regiões geográficas do Brasil"
   ]
  },
  {
   "cell_type": "code",
   "execution_count": null,
   "id": "03mGeEAqy6Dj",
   "metadata": {
    "hidden": true,
    "id": "03mGeEAqy6Dj"
   },
   "outputs": [],
   "source": [
    "nordeste = separar_regiao(df, (df['SG_UF_PROVA'] == 'AL') | (df['SG_UF_PROVA'] == 'BA') | (df['SG_UF_PROVA'] == 'MA') | (df['SG_UF_PROVA'] == 'RN') | (df['SG_UF_PROVA'] == 'CE') | (df['SG_UF_PROVA'] == 'PA') | (df['SG_UF_PROVA'] == 'PI') | (df['SG_UF_PROVA'] == 'PE') | (df['SG_UF_PROVA'] == 'SE'))"
   ]
  },
  {
   "cell_type": "code",
   "execution_count": null,
   "id": "osE9y_kwF47v",
   "metadata": {
    "hidden": true,
    "id": "osE9y_kwF47v"
   },
   "outputs": [],
   "source": [
    "nordeste['Região'] = 'Nordeste'"
   ]
  },
  {
   "cell_type": "code",
   "execution_count": null,
   "id": "ZECEbY1qzEMS",
   "metadata": {
    "colab": {
     "base_uri": "https://localhost:8080/",
     "height": 716
    },
    "hidden": true,
    "id": "ZECEbY1qzEMS",
    "outputId": "342d37dc-da1b-4d2f-a162-7d59eda784b3",
    "scrolled": true
   },
   "outputs": [],
   "source": [
    "nordeste.head()"
   ]
  },
  {
   "cell_type": "code",
   "execution_count": null,
   "id": "JJYoEKdGWWBX",
   "metadata": {
    "colab": {
     "base_uri": "https://localhost:8080/"
    },
    "hidden": true,
    "id": "JJYoEKdGWWBX",
    "outputId": "2805e8ef-510b-4cf6-afcd-98895013ae5b"
   },
   "outputs": [],
   "source": [
    "nordeste.shape"
   ]
  },
  {
   "cell_type": "code",
   "execution_count": null,
   "id": "PAukdNVSWZHG",
   "metadata": {
    "hidden": true,
    "id": "PAukdNVSWZHG"
   },
   "outputs": [],
   "source": [
    "norte = separar_regiao(df, (df['SG_UF_PROVA'] == 'AM') | (df['SG_UF_PROVA'] == 'PA') | (df['SG_UF_PROVA'] == 'AP') | (df['SG_UF_PROVA'] == 'RO') | (df['SG_UF_PROVA'] == 'RR') | (df['SG_UF_PROVA'] == 'AC') | (df['SG_UF_PROVA'] == 'TO') | (df['SG_UF_PROVA'] == 'PA'))"
   ]
  },
  {
   "cell_type": "code",
   "execution_count": null,
   "id": "GWbTC2KrGeHX",
   "metadata": {
    "hidden": true,
    "id": "GWbTC2KrGeHX"
   },
   "outputs": [],
   "source": [
    "norte['Região'] = 'Norte'"
   ]
  },
  {
   "cell_type": "code",
   "execution_count": null,
   "id": "CADFUOorXDBN",
   "metadata": {
    "colab": {
     "base_uri": "https://localhost:8080/",
     "height": 751
    },
    "hidden": true,
    "id": "CADFUOorXDBN",
    "outputId": "157e5fc4-f33d-4610-b767-81b1acb4726f"
   },
   "outputs": [],
   "source": [
    "norte.head()"
   ]
  },
  {
   "cell_type": "code",
   "execution_count": null,
   "id": "dpo5pfYuXIsu",
   "metadata": {
    "colab": {
     "base_uri": "https://localhost:8080/"
    },
    "hidden": true,
    "id": "dpo5pfYuXIsu",
    "outputId": "c9727b7e-e30b-4c55-99c8-64e5b0514a5c"
   },
   "outputs": [],
   "source": [
    "norte.shape"
   ]
  },
  {
   "cell_type": "code",
   "execution_count": null,
   "id": "vWOkeeRuXK7K",
   "metadata": {
    "hidden": true,
    "id": "vWOkeeRuXK7K"
   },
   "outputs": [],
   "source": [
    "centro_oeste = separar_regiao(df,(df['SG_UF_PROVA'] == 'GO') | (df['SG_UF_PROVA'] == 'MT') | (df['SG_UF_PROVA'] == 'MS') | (df['SG_UF_PROVA'] == 'DF'))"
   ]
  },
  {
   "cell_type": "code",
   "execution_count": null,
   "id": "R-JRR4onHHih",
   "metadata": {
    "hidden": true,
    "id": "R-JRR4onHHih"
   },
   "outputs": [],
   "source": [
    "centro_oeste['Região'] = 'Centro-Oeste'"
   ]
  },
  {
   "cell_type": "code",
   "execution_count": null,
   "id": "bBn7kKxiXViI",
   "metadata": {
    "colab": {
     "base_uri": "https://localhost:8080/",
     "height": 699
    },
    "hidden": true,
    "id": "bBn7kKxiXViI",
    "outputId": "f1fd987f-3464-4734-8f7d-09ff9edd2369"
   },
   "outputs": [],
   "source": [
    "centro_oeste.head()"
   ]
  },
  {
   "cell_type": "code",
   "execution_count": null,
   "id": "YdTbLnXVXdgc",
   "metadata": {
    "hidden": true,
    "id": "YdTbLnXVXdgc"
   },
   "outputs": [],
   "source": [
    "sudeste = separar_regiao(df,(df['SG_UF_PROVA'] == 'SP') | (df['SG_UF_PROVA'] == 'ES') | (df['SG_UF_PROVA'] == 'RJ') | (df['SG_UF_PROVA'] == 'MG'))"
   ]
  },
  {
   "cell_type": "code",
   "execution_count": null,
   "id": "TGPWjkf7GvUf",
   "metadata": {
    "hidden": true,
    "id": "TGPWjkf7GvUf"
   },
   "outputs": [],
   "source": [
    "sudeste['Região'] = 'Sudeste'"
   ]
  },
  {
   "cell_type": "code",
   "execution_count": null,
   "id": "fhIevLfPXrph",
   "metadata": {
    "colab": {
     "base_uri": "https://localhost:8080/",
     "height": 699
    },
    "hidden": true,
    "id": "fhIevLfPXrph",
    "outputId": "573f8630-484d-411b-d69c-c3fb4e8d06b5"
   },
   "outputs": [],
   "source": [
    "sudeste.head()"
   ]
  },
  {
   "cell_type": "code",
   "execution_count": null,
   "id": "3iUT3vKXX1Ci",
   "metadata": {
    "colab": {
     "base_uri": "https://localhost:8080/"
    },
    "hidden": true,
    "id": "3iUT3vKXX1Ci",
    "outputId": "8755328c-d535-4523-be50-60dcb1c3e070"
   },
   "outputs": [],
   "source": [
    "sudeste.shape"
   ]
  },
  {
   "cell_type": "code",
   "execution_count": null,
   "id": "0skKbiWlX3Yx",
   "metadata": {
    "hidden": true,
    "id": "0skKbiWlX3Yx"
   },
   "outputs": [],
   "source": [
    "sul=separar_regiao(df,(df['SG_UF_PROVA'] == 'SC') | (df['SG_UF_PROVA'] == 'PR') | (df['SG_UF_PROVA'] == 'RS'))"
   ]
  },
  {
   "cell_type": "code",
   "execution_count": null,
   "id": "I1OJqM-fG1rX",
   "metadata": {
    "hidden": true,
    "id": "I1OJqM-fG1rX"
   },
   "outputs": [],
   "source": [
    "sul['Região'] = 'Sul'"
   ]
  },
  {
   "cell_type": "code",
   "execution_count": null,
   "id": "EPEZ9ozDYCMI",
   "metadata": {
    "colab": {
     "base_uri": "https://localhost:8080/",
     "height": 751
    },
    "hidden": true,
    "id": "EPEZ9ozDYCMI",
    "outputId": "f7afaee9-348d-42a9-d72b-ad69c28fdf89"
   },
   "outputs": [],
   "source": [
    "sul.head()"
   ]
  },
  {
   "cell_type": "code",
   "execution_count": null,
   "id": "u6tVESLmYJMn",
   "metadata": {
    "colab": {
     "base_uri": "https://localhost:8080/"
    },
    "hidden": true,
    "id": "u6tVESLmYJMn",
    "outputId": "0654e063-5410-4a09-e224-54dc5f1b1a8b"
   },
   "outputs": [],
   "source": [
    "sul.shape"
   ]
  },
  {
   "cell_type": "markdown",
   "id": "npWK16QH1KNk",
   "metadata": {
    "id": "npWK16QH1KNk"
   },
   "source": [
    "## Explorando a Região Nordeste"
   ]
  },
  {
   "cell_type": "code",
   "execution_count": null,
   "id": "p3Blh1Qd15cj",
   "metadata": {
    "colab": {
     "base_uri": "https://localhost:8080/",
     "height": 743
    },
    "id": "p3Blh1Qd15cj",
    "outputId": "07afa3cd-5b4c-4ba2-d588-e7fb971be727"
   },
   "outputs": [],
   "source": [
    "graficos_padrao(nordeste)"
   ]
  },
  {
   "cell_type": "code",
   "execution_count": null,
   "id": "HCvMRTIa8VV8",
   "metadata": {
    "colab": {
     "base_uri": "https://localhost:8080/",
     "height": 639
    },
    "id": "HCvMRTIa8VV8",
    "outputId": "7b0d755b-0464-4c73-9480-35b4dea9f879"
   },
   "outputs": [],
   "source": [
    "distribuir_notas(nordeste, 10)"
   ]
  },
  {
   "cell_type": "markdown",
   "id": "sHhhCExusCPy",
   "metadata": {
    "id": "sHhhCExusCPy"
   },
   "source": [
    "## Explorando a Região Norte"
   ]
  },
  {
   "cell_type": "code",
   "execution_count": null,
   "id": "NtH2eVXDsO8a",
   "metadata": {
    "colab": {
     "base_uri": "https://localhost:8080/",
     "height": 743
    },
    "id": "NtH2eVXDsO8a",
    "outputId": "8403eee5-6990-426d-adf9-55e9825e7fdf",
    "scrolled": true
   },
   "outputs": [],
   "source": [
    "graficos_padrao(norte)"
   ]
  },
  {
   "cell_type": "code",
   "execution_count": null,
   "id": "9sf0yNDIsTLB",
   "metadata": {
    "colab": {
     "base_uri": "https://localhost:8080/",
     "height": 639
    },
    "id": "9sf0yNDIsTLB",
    "outputId": "0e9f4e1e-557b-4387-9aa5-621f4ee193f6"
   },
   "outputs": [],
   "source": [
    "distribuir_notas(nordeste, 20)"
   ]
  },
  {
   "cell_type": "markdown",
   "id": "04oKxukrtXZw",
   "metadata": {
    "id": "04oKxukrtXZw"
   },
   "source": [
    "## Explorando Região Centro-Oeste"
   ]
  },
  {
   "cell_type": "code",
   "execution_count": null,
   "id": "fgKe2z3Ssx-z",
   "metadata": {
    "colab": {
     "base_uri": "https://localhost:8080/",
     "height": 743
    },
    "id": "fgKe2z3Ssx-z",
    "outputId": "a74bbb78-caf2-4664-f7a9-9efdd70ac260",
    "scrolled": false
   },
   "outputs": [],
   "source": [
    "graficos_padrao(centro_oeste)"
   ]
  },
  {
   "cell_type": "code",
   "execution_count": null,
   "id": "6MTZa8cYtEtD",
   "metadata": {
    "colab": {
     "base_uri": "https://localhost:8080/",
     "height": 639
    },
    "id": "6MTZa8cYtEtD",
    "outputId": "75e18bfe-5389-488b-e41f-95a3d27b2e0f"
   },
   "outputs": [],
   "source": [
    "distribuir_notas(centro_oeste, 10)"
   ]
  },
  {
   "cell_type": "markdown",
   "id": "pL36yfAltl8R",
   "metadata": {
    "id": "pL36yfAltl8R"
   },
   "source": [
    "## Explorando Região Sul"
   ]
  },
  {
   "cell_type": "code",
   "execution_count": null,
   "id": "xfo_-IV0s0v3",
   "metadata": {
    "colab": {
     "base_uri": "https://localhost:8080/",
     "height": 743
    },
    "id": "xfo_-IV0s0v3",
    "outputId": "d60509eb-bd1b-45e8-fd10-09d9f65d01cb"
   },
   "outputs": [],
   "source": [
    "graficos_padrao(sul)"
   ]
  },
  {
   "cell_type": "code",
   "execution_count": null,
   "id": "EH8JfK7etGEl",
   "metadata": {
    "colab": {
     "base_uri": "https://localhost:8080/",
     "height": 639
    },
    "id": "EH8JfK7etGEl",
    "outputId": "b9f67035-e972-472b-9612-6fbec9694af8"
   },
   "outputs": [],
   "source": [
    "distribuir_notas(sul, 8)"
   ]
  },
  {
   "cell_type": "markdown",
   "id": "2coc4YJztuzu",
   "metadata": {
    "id": "2coc4YJztuzu"
   },
   "source": [
    "## Explorando Região Sudoeste"
   ]
  },
  {
   "cell_type": "code",
   "execution_count": null,
   "id": "KspLNgZ7s-0x",
   "metadata": {
    "colab": {
     "base_uri": "https://localhost:8080/",
     "height": 743
    },
    "id": "KspLNgZ7s-0x",
    "outputId": "9e5c0ea5-cdc0-46a5-82c3-1697c134ceb5",
    "scrolled": true
   },
   "outputs": [],
   "source": [
    "graficos_padrao(sudeste)"
   ]
  },
  {
   "cell_type": "code",
   "execution_count": null,
   "id": "gL7orAhatCxu",
   "metadata": {
    "colab": {
     "base_uri": "https://localhost:8080/",
     "height": 639
    },
    "id": "gL7orAhatCxu",
    "outputId": "6618cfe7-92ee-43ec-91c6-b5cf1fc44695"
   },
   "outputs": [],
   "source": [
    "distribuir_notas(sudeste, 10)"
   ]
  },
  {
   "cell_type": "markdown",
   "id": "ZcR4nTbJu108",
   "metadata": {
    "id": "ZcR4nTbJu108"
   },
   "source": [
    "## Explorando as notas da base"
   ]
  },
  {
   "cell_type": "code",
   "execution_count": null,
   "id": "skn9oFEXe24X",
   "metadata": {
    "id": "skn9oFEXe24X"
   },
   "outputs": [],
   "source": [
    "cdf = pd.concat([nordeste, sudeste, sul, norte, centro_oeste])  "
   ]
  },
  {
   "cell_type": "code",
   "execution_count": null,
   "id": "qTqzwh9ZP7gK",
   "metadata": {
    "colab": {
     "base_uri": "https://localhost:8080/",
     "height": 621
    },
    "id": "qTqzwh9ZP7gK",
    "outputId": "7147d1cf-2173-4d57-b0dc-ed78013c6b61"
   },
   "outputs": [],
   "source": [
    "ax = fazer_boxplot(cdf, 'NOTA_CN_CIENCIAS_DA_NATUREZA')\n",
    "ax.set_title('Distribuição das notas de ciências da natureza por região')\n",
    "ax.legend(loc='lower right')\n",
    "fig.show()"
   ]
  },
  {
   "cell_type": "code",
   "execution_count": null,
   "id": "9NCSBdnkLTZx",
   "metadata": {
    "colab": {
     "base_uri": "https://localhost:8080/",
     "height": 621
    },
    "id": "9NCSBdnkLTZx",
    "outputId": "a251683a-dc54-4004-eaf3-775b4bc839da"
   },
   "outputs": [],
   "source": [
    "ax = fazer_boxplot(cdf, 'NOTA_CH_CIENCIAS_hUMANAS')\n",
    "ax.set_title('Distribuição das notas de ciências humanas por região')\n",
    "ax.legend(loc='lower right')\n",
    "fig.show()"
   ]
  },
  {
   "cell_type": "code",
   "execution_count": null,
   "id": "5yeA-Nfhc953",
   "metadata": {
    "colab": {
     "base_uri": "https://localhost:8080/",
     "height": 621
    },
    "id": "5yeA-Nfhc953",
    "outputId": "fcff5ada-9fa2-4452-d3e3-795dadeaba1d"
   },
   "outputs": [],
   "source": [
    "ax = fazer_boxplot(cdf, 'NOTA_LC_LINGUAGENS_E_CODIGOS')\n",
    "ax.set_title('Distribuição das notas de linguagens e códigos por região')\n",
    "ax.legend(loc='lower right')\n",
    "fig.show()"
   ]
  },
  {
   "cell_type": "code",
   "execution_count": null,
   "id": "3RqBTcw0LVtR",
   "metadata": {
    "colab": {
     "base_uri": "https://localhost:8080/",
     "height": 621
    },
    "id": "3RqBTcw0LVtR",
    "outputId": "a3af96e4-f1b6-4830-cd18-f4bf91501a14"
   },
   "outputs": [],
   "source": [
    "ax = fazer_boxplot(cdf, 'NOTA_MT_MATEMATICA')\n",
    "ax.set_title('Distribuição das notas de matemática por região')\n",
    "ax.legend(loc='lower right')\n",
    "fig.show()"
   ]
  },
  {
   "cell_type": "code",
   "execution_count": null,
   "id": "oHZoeWr1LWfQ",
   "metadata": {
    "colab": {
     "base_uri": "https://localhost:8080/",
     "height": 621
    },
    "id": "oHZoeWr1LWfQ",
    "outputId": "1d135cbd-5c53-4aba-c6d8-83eb45a08e83"
   },
   "outputs": [],
   "source": [
    "ax = fazer_boxplot(cdf, 'NOTA_REDACAO')\n",
    "ax.set_title('Distribuição das notas da redação por região')\n",
    "ax.legend(loc='lower right')\n",
    "fig.show()"
   ]
  },
  {
   "cell_type": "code",
   "execution_count": null,
   "id": "oeD6KMemWuCz",
   "metadata": {
    "colab": {
     "base_uri": "https://localhost:8080/",
     "height": 542
    },
    "id": "oeD6KMemWuCz",
    "outputId": "b2086eef-cad6-490b-9063-e0ca16a880af"
   },
   "outputs": [],
   "source": [
    "import plotly.express as px\n",
    "fig = px.box(cdf, x='Região', y='NOTA_MEDIA_5_NOTAS', facet_col_spacing=0.3,facet_row_spacing=0.3, color=\"Região\", animation_group='Região')\n",
    "fig.show()"
   ]
  },
  {
   "cell_type": "code",
   "execution_count": null,
   "id": "44hEjl_fW7cf",
   "metadata": {
    "colab": {
     "base_uri": "https://localhost:8080/",
     "height": 622
    },
    "id": "44hEjl_fW7cf",
    "outputId": "56910dd0-bf31-4a74-bbac-688a7b0a47cf"
   },
   "outputs": [],
   "source": [
    "fig, ax = plt.subplots(figsize=(20, 10))\n",
    "ax.grid(True, which='major')\n",
    "sns.boxplot(x='TP_FAIXA_ETARIA', y='NOTA_MEDIA_5_NOTAS', data=df, hue='TP_FAIXA_ETARIA',linewidth=1.3, notch=True, dodge=False, width=0.4)\n",
    "ax.set_title('Distribuição das médias por tipo de Faixa etária')\n",
    "plt.yticks(np.arange(150, 1000, 50))\n",
    "ax.legend(loc='lower right')\n",
    "fig.show()"
   ]
  },
  {
   "cell_type": "code",
   "execution_count": null,
   "id": "OA-PcRiRZy_T",
   "metadata": {
    "colab": {
     "base_uri": "https://localhost:8080/",
     "height": 840
    },
    "id": "OA-PcRiRZy_T",
    "outputId": "8ba447d0-3323-40e4-d982-b98fc131e80c"
   },
   "outputs": [],
   "source": [
    "fig, ax = plt.subplots(figsize=(12, 14))\n",
    "sns.boxplot(x='TP_SEXO', y='NOTA_MEDIA_5_NOTAS', data=df, hue='TP_SEXO',linewidth=3, notch=True, dodge=False)\n",
    "ax.set_title('Distribuição das médias por tipo de sexo')\n",
    "ax.grid(True)\n",
    "fig.show()"
   ]
  },
  {
   "cell_type": "code",
   "execution_count": null,
   "id": "TwR6Yzrsu8vF",
   "metadata": {
    "colab": {
     "base_uri": "https://localhost:8080/",
     "height": 840
    },
    "id": "TwR6Yzrsu8vF",
    "outputId": "7ff0fd38-cfa5-4cce-b74b-d3f692c50b2a"
   },
   "outputs": [],
   "source": [
    "fig, ax = plt.subplots(figsize=(10, 14))\n",
    "sns.boxplot(x='TP_ESCOLA', y='NOTA_MEDIA_5_NOTAS', data=df, hue='TP_ESCOLA',linewidth=3, notch=True, dodge=False)\n",
    "ax.set_title('Distribuição das médias por tipo de escola')\n",
    "ax.grid(True)\n",
    "fig.show()"
   ]
  },
  {
   "cell_type": "code",
   "execution_count": null,
   "id": "29-NTWLfV1st",
   "metadata": {
    "colab": {
     "base_uri": "https://localhost:8080/",
     "height": 840
    },
    "id": "29-NTWLfV1st",
    "outputId": "7f5062fb-3642-4312-e0aa-9c852fa44619"
   },
   "outputs": [],
   "source": [
    "fig, ax = plt.subplots(figsize=(10, 14))\n",
    "sns.boxplot(x='TP_COR_RACA', y='NOTA_MEDIA_5_NOTAS', data=df, hue='TP_COR_RACA',linewidth=2, notch=True, dodge=False)\n",
    "ax.set_title('Distribuição das médias por tipo de cor/raça')\n",
    "ax.grid(True)\n",
    "ax.legend(loc='lower right')\n",
    "fig.show()"
   ]
  },
  {
   "cell_type": "code",
   "execution_count": null,
   "id": "PkXNMWPKbPkQ",
   "metadata": {
    "colab": {
     "base_uri": "https://localhost:8080/",
     "height": 840
    },
    "id": "PkXNMWPKbPkQ",
    "outputId": "b7d72e76-cb72-4e24-bf65-910a71928bab"
   },
   "outputs": [],
   "source": [
    "fig, ax = plt.subplots(figsize=(10, 14))\n",
    "sns.boxplot(x='TP_ST_CONCLUSAO', y='NOTA_MEDIA_5_NOTAS', data=df, hue='TP_ST_CONCLUSAO',linewidth=2, notch=True, dodge=False)\n",
    "ax.set_title('Distribuição das médias por conclusão do ensino médio')\n",
    "plt.xticks(color='w')\n",
    "ax.grid(True)\n",
    "ax.legend(loc='upper right')\n",
    "fig.show()"
   ]
  },
  {
   "cell_type": "code",
   "execution_count": null,
   "id": "MZdQOcq03B84",
   "metadata": {
    "colab": {
     "base_uri": "https://localhost:8080/",
     "height": 522
    },
    "id": "MZdQOcq03B84",
    "outputId": "5eea6958-5bc6-4237-c080-135fadad33a7"
   },
   "outputs": [],
   "source": [
    "fig, ax = plt.subplots(figsize=(12,8))\n",
    "ax = sns.barplot(x=df.TP_ANO_CONCLUIU.value_counts().index, y=df[\"TP_ANO_CONCLUIU\"].value_counts().values, ax=ax, palette='viridis', )\n",
    "plt.setp(ax.get_xticklabels(), rotation=18, ha=\"right\")\n",
    "plt.yticks(np.arange(0, df.TP_ANO_CONCLUIU.value_counts().max(), 10000))\n",
    "ax.set_title('Média das notas')\n",
    "ax.grid(True,  axis='y')"
   ]
  }
 ],
 "metadata": {
  "colab": {
   "collapsed_sections": [
    "0NAPEwlP1GmE",
    "4aNwpaNI3ubc",
    "aKLMpz_24Bl0",
    "LMvGkmm50sqN",
    "npWK16QH1KNk",
    "sHhhCExusCPy",
    "04oKxukrtXZw",
    "pL36yfAltl8R",
    "2coc4YJztuzu"
   ],
   "name": "ENEM_ANALISE.ipynb",
   "provenance": []
  },
  "kernelspec": {
   "display_name": "Python 3 (ipykernel)",
   "language": "python",
   "name": "python3"
  },
  "language_info": {
   "codemirror_mode": {
    "name": "ipython",
    "version": 3
   },
   "file_extension": ".py",
   "mimetype": "text/x-python",
   "name": "python",
   "nbconvert_exporter": "python",
   "pygments_lexer": "ipython3",
   "version": "3.9.12"
  },
  "notify_time": "10"
 },
 "nbformat": 4,
 "nbformat_minor": 5
}
